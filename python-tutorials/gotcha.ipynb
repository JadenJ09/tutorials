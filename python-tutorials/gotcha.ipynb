{
 "cells": [
  {
   "cell_type": "markdown",
   "metadata": {},
   "source": [
    "In Python, a \"gotcha\" refers to a feature or aspect of the language that works as designed but can be counterintuitive, misleading, or produce unexpected results, especially for beginners or those not intimately familiar with Python's nuances. Gotchas can lead to bugs or errors in your code if you're not aware of them. Here are a few examples of common Python gotchas:"
   ]
  },
  {
   "cell_type": "markdown",
   "metadata": {},
   "source": [
    "#### 1. Mutable Default Arguments:\n",
    "When you use a mutable object like a list or a dictionary as a default argument in a function, the function accumulates the changes to that object on each call."
   ]
  },
  {
   "cell_type": "code",
   "execution_count": 1,
   "metadata": {},
   "outputs": [
    {
     "name": "stdout",
     "output_type": "stream",
     "text": [
      "[1]\n",
      "[1, 2]\n"
     ]
    }
   ],
   "source": [
    "def append_to(element, to=[]):\n",
    "    to.append(element)\n",
    "    return to\n",
    "\n",
    "print(append_to(1))  # Expected: [1], Actual: [1]\n",
    "print(append_to(2))  # Expected: [2], Actual: [1, 2]\n"
   ]
  },
  {
   "cell_type": "markdown",
   "metadata": {},
   "source": [
    "#### 2. Late Binding Closures:\n",
    "When you create a closure in Python, the variables are looked up at the time the inner function is called."
   ]
  },
  {
   "cell_type": "code",
   "execution_count": 25,
   "metadata": {},
   "outputs": [
    {
     "name": "stdout",
     "output_type": "stream",
     "text": [
      "4\n",
      "4\n",
      "[4, 4]\n"
     ]
    }
   ],
   "source": [
    "funcs = [lambda x: x + n for n in range(5)]\n",
    "print(funcs[0](0))  # Expected: 0, Actual: 4\n",
    "print(funcs[1](0))  # Expected: 1, Actual: 4\n",
    "# print(funcs[0:2](1))  # Expected: [0, 1], Actual: [4, 4] -> This will not work\n",
    "print([func(0) for func in funcs[0:2]])  # This will print [4, 4]"
   ]
  },
  {
   "cell_type": "code",
   "execution_count": 27,
   "metadata": {},
   "outputs": [
    {
     "name": "stdout",
     "output_type": "stream",
     "text": [
      "[0, 1]\n"
     ]
    }
   ],
   "source": [
    "funcs = [lambda x, n=n: x + n for n in range(5)]\n",
    "print([func(0) for func in funcs[0:2]])  # This will print [1, 2]\n"
   ]
  },
  {
   "cell_type": "markdown",
   "metadata": {},
   "source": [
    "#### 3. The scope of variables in list comprehensions:\n",
    "Variables used in list comprehensions leak into the enclosing scope, up until Python 3.x."
   ]
  },
  {
   "cell_type": "code",
   "execution_count": 3,
   "metadata": {},
   "outputs": [
    {
     "name": "stdout",
     "output_type": "stream",
     "text": [
      "before\n"
     ]
    }
   ],
   "source": [
    "x = 'before'\n",
    "[x for x in range(5)]\n",
    "print(x)  # Expected: 'before', Actual: 4 in Python 2.x, 'before' in Python 3.x\n"
   ]
  },
  {
   "cell_type": "markdown",
   "metadata": {},
   "source": [
    "#### 4. Modifying a list while iterating over it:\n",
    "Modifying a list (or dictionary) while iterating over it can lead to unexpected behavior or errors."
   ]
  },
  {
   "cell_type": "code",
   "execution_count": 16,
   "metadata": {},
   "outputs": [
    {
     "name": "stdout",
     "output_type": "stream",
     "text": [
      "[1, 3]\n"
     ]
    }
   ],
   "source": [
    "numbers = [1, 2, 3, 4]\n",
    "for number in numbers:\n",
    "    if number % 2 == 0:\n",
    "        numbers.remove(number)\n",
    "print(numbers)  # numbers will be [1, 3] not [1, 3, 4]  \n",
    "# numbers will be [1, 3] not [1, 3, 4]\n"
   ]
  },
  {
   "cell_type": "markdown",
   "metadata": {},
   "source": [
    "#### 5. Equality and identity:\n",
    "Using == checks if two objects are equal (have the same value), while is checks if they are the exact same object (same memory location)."
   ]
  },
  {
   "cell_type": "code",
   "execution_count": 5,
   "metadata": {},
   "outputs": [
    {
     "name": "stdout",
     "output_type": "stream",
     "text": [
      "True\n",
      "False\n"
     ]
    }
   ],
   "source": [
    "a = [1, 2, 3]\n",
    "b = [1, 2, 3]\n",
    "print(a == b)  # True\n",
    "print(a is b)  # False\n"
   ]
  },
  {
   "cell_type": "code",
   "execution_count": null,
   "metadata": {},
   "outputs": [],
   "source": []
  }
 ],
 "metadata": {
  "kernelspec": {
   "display_name": "myenv",
   "language": "python",
   "name": "python3"
  },
  "language_info": {
   "codemirror_mode": {
    "name": "ipython",
    "version": 3
   },
   "file_extension": ".py",
   "mimetype": "text/x-python",
   "name": "python",
   "nbconvert_exporter": "python",
   "pygments_lexer": "ipython3",
   "version": "3.10.13"
  }
 },
 "nbformat": 4,
 "nbformat_minor": 2
}
